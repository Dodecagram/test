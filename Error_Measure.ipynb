{
  "nbformat": 4,
  "nbformat_minor": 0,
  "metadata": {
    "colab": {
      "name": "Error Measure.ipynb",
      "version": "0.3.2",
      "provenance": [],
      "collapsed_sections": []
    },
    "kernelspec": {
      "name": "python3",
      "display_name": "Python 3"
    },
    "accelerator": "GPU"
  },
  "cells": [
    {
      "cell_type": "code",
      "metadata": {
        "id": "l7qQYvSAFI45",
        "colab_type": "code",
        "outputId": "36ffa36f-eb65-46ba-8d43-70cb63373dbd",
        "colab": {
          "base_uri": "https://localhost:8080/",
          "height": 34
        }
      },
      "source": [
        "from google.colab import drive\n",
        "drive.mount('/content/drive/')"
      ],
      "execution_count": 0,
      "outputs": [
        {
          "output_type": "stream",
          "text": [
            "Drive already mounted at /content/drive/; to attempt to forcibly remount, call drive.mount(\"/content/drive/\", force_remount=True).\n"
          ],
          "name": "stdout"
        }
      ]
    },
    {
      "cell_type": "code",
      "metadata": {
        "id": "7wSD_neMFfMi",
        "colab_type": "code",
        "colab": {}
      },
      "source": [
        "import numpy as np\n",
        "import matplotlib.pyplot as plt\n",
        "import cv2\n",
        "import math"
      ],
      "execution_count": 0,
      "outputs": []
    },
    {
      "cell_type": "code",
      "metadata": {
        "id": "7dm6bOr6-KXp",
        "colab_type": "code",
        "colab": {}
      },
      "source": [
        "def imanticorrect(img, L):\n",
        "    canvas = img.astype('float')\n",
        "    canvas = canvas * L\n",
        "    return canvas\n",
        "\n",
        "# Error Metric\n",
        "\n",
        "# Single light\n",
        "def sl(Le, Lt):\n",
        "  Le = Le.astype(np.float)\n",
        "  Lt = Lt.astype(np.float)\n",
        "  s = (np.linalg.norm(Le)*np.linalg.norm(Lt))\n",
        "  if s == 0:\n",
        "    return math.pi/2\n",
        "  return math.acos((np.dot(Le,Lt)/s).clip(-1,1))\n",
        "\n",
        "# Multiple Light\n",
        "def ml(Le, Lt):\n",
        "  Le = Le.astype(np.float)\n",
        "  Lt = Lt.astype(np.float)\n",
        "  denominator = np.linalg.norm(Le, axis=2) * np.linalg.norm(Lt, axis=2)\n",
        "  numerator = (Le * Lt).sum(axis=2)\n",
        "  epsilons = np.zeros((denominator != 0).sum())\n",
        "  epsilons = numerator[denominator != 0] / denominator[denominator != 0]\n",
        "  epsilons = np.arccos(epsilons.clip(-1,1))\n",
        "  epsilons[np.isnan(epsilons)] = math.pi/2 #\n",
        "  average = epsilons.mean()\n",
        "  return average\n",
        "\n",
        "# Generator of Multiple Light\n",
        "\n",
        "def lightGenerate(imgshape, k, sigma=-1):\n",
        "  if sigma == -1:\n",
        "    sigma = math.ceil(min(imgshape)/64)\n",
        "    sigma = max(abs(math.floor(np.random.random()*4 - 2 + sigma + 0.5)), 1)\n",
        "  height = imgshape[0]\n",
        "  width = imgshape[1]\n",
        "  x = np.arange(1, width + 1)\n",
        "  y = np.arange(1, height + 1)\n",
        "  cor = np.meshgrid(x, y)\n",
        "  cor_data = np.stack(cor, axis=2).reshape(-1,2).astype(np.float32)\n",
        "  criteria = (cv2.TERM_CRITERIA_EPS + cv2.TERM_CRITERIA_MAX_ITER, 10, 1.0)\n",
        "  flags = cv2.KMEANS_RANDOM_CENTERS\n",
        "  compactness,labels,centers = cv2.kmeans(cor_data, k, None, criteria, 1, flags)\n",
        "  canvas = np.zeros((height, width, 3), np.uint8)\n",
        "  c_labels = labels.reshape((height, width))\n",
        "  for i in range(k):\n",
        "    canvas[:,:,0][c_labels == i] = np.random.randint(0,256)\n",
        "    canvas[:,:,1][c_labels == i] = np.random.randint(0,256)\n",
        "    canvas[:,:,2][c_labels == i] = np.random.randint(0,256)\n",
        "  return cv2.GaussianBlur(canvas,(math.ceil(6*sigma+1),math.ceil(6*sigma+1)),sigma).astype(np.float)"
      ],
      "execution_count": 0,
      "outputs": []
    },
    {
      "cell_type": "code",
      "metadata": {
        "id": "JS7VluYjKf4r",
        "colab_type": "code",
        "colab": {}
      },
      "source": [
        "def errorMeasure(method, kw, imgs, lights=None, num=1000, err_metric_method=ml):\n",
        "    if lights == None:\n",
        "        num_imgs = len(imgs)\n",
        "        set_imgs = []\n",
        "        set_lights = []\n",
        "        set_errors = []\n",
        "        for i in range(num):\n",
        "            n = math.floor(np.random.random() * num_imgs)\n",
        "            set_lights.append(lightGenerate(imgs[n].shape[:-1], 4 + math.floor(np.random.random() * 4)))\n",
        "            set_imgs.append(imanticorrect(imgs[n], set_lights[-1]))\n",
        "    else:\n",
        "        set_imgs = imgs\n",
        "        set_lights = lights\n",
        "    for i in range(len(set_imgs)):\n",
        "        set_errors.append(err_metric_method(method(set_imgs[i], **kw), set_lights[i]))\n",
        "    return np.mean(set_errors), np.median(set_errors)"
      ],
      "execution_count": 0,
      "outputs": []
    },
    {
      "cell_type": "code",
      "metadata": {
        "id": "be-rrKeFMEXE",
        "colab_type": "code",
        "colab": {}
      },
      "source": [
        "import sys\n",
        "import os\n",
        "sys.path.append('/content/drive/My Drive/Color Constancy/Source-code/code/')"
      ],
      "execution_count": 0,
      "outputs": []
    },
    {
      "cell_type": "code",
      "metadata": {
        "id": "l4efoHEtFZp8",
        "colab_type": "code",
        "colab": {}
      },
      "source": [
        "from DOCC import DOCC\n",
        "import BU\n",
        "#...\n",
        "\n",
        "#Ls = []\n",
        "# imgs = map(lambda u:cv2.resize(cv2.imread('/content/drive/My Drive/Color Constancy/Resource/ColorChecker Dataset/Corrected/'+u)[:,:,::-1], (0, 0), fx=0.1, fy=0.1), \n",
        "#            os.listdir('/content/drive/My Drive/Color Constancy/Resource/ColorChecker Dataset/Corrected'))\n",
        "imgs = map(lambda u:cv2.imread('/content/drive/My Drive/Color Constancy/Resource/ColorChecker Dataset/Corrected/'+u)[:,:,::-1], \n",
        "            os.listdir('/content/drive/My Drive/Color Constancy/Resource/ColorChecker Dataset/Corrected'))"
      ],
      "execution_count": 0,
      "outputs": []
    },
    {
      "cell_type": "code",
      "metadata": {
        "id": "JQ7NkufDL5z0",
        "colab_type": "code",
        "colab": {}
      },
      "source": [
        "imgs = list(imgs)"
      ],
      "execution_count": 0,
      "outputs": []
    },
    {
      "cell_type": "code",
      "metadata": {
        "id": "0ozxWWpMb5b_",
        "colab_type": "code",
        "colab": {}
      },
      "source": [
        "def doNothing(img):\n",
        "    return img\n",
        "#     return np.ones(img.shape)\n",
        "\n",
        "def BU_method1(img, R1_sigma, R2_sigma, k):\n",
        "    img_BU = BU.BU(img, R1_sigma, R2_sigma, k)\n",
        "    return img_BU.method1()[0]\n",
        "  \n",
        "def BU_method2(img, R1_sigma, R2_sigma, k):\n",
        "    img_BU = BU.BU(img, R1_sigma, R2_sigma, k)\n",
        "    return img_BU.method2()[0]"
      ],
      "execution_count": 0,
      "outputs": []
    },
    {
      "cell_type": "code",
      "metadata": {
        "id": "AJLasdKfFmix",
        "colab_type": "code",
        "colab": {}
      },
      "source": [
        "# DOCC \n",
        "err = errorMeasure(DOCC, {'R1_sigma':1, 'R2_sigma':3, 'k':0.6, 'pooling':'none'}, imgs, num=600)\n",
        "err[0]/math.pi*180, err[1]/math.pi*180"
      ],
      "execution_count": 0,
      "outputs": []
    },
    {
      "cell_type": "code",
      "metadata": {
        "id": "pUz1X5W7YaHZ",
        "colab_type": "code",
        "colab": {}
      },
      "source": [
        "# BU method1\n",
        "err = errorMeasure(BU_method1, {'R1_sigma':1, 'R2_sigma':2, k:0.3}, imgs, num=600)\n",
        "err[0]/math.pi*180, err[1]/math.pi*180"
      ],
      "execution_count": 0,
      "outputs": []
    },
    {
      "cell_type": "code",
      "metadata": {
        "id": "kiLQ7TRSoFSB",
        "colab_type": "code",
        "colab": {}
      },
      "source": [
        "# BU method2\n",
        "err = errorMeasure(BU_method2, {'R1_sigma':1, 'R2_sigma':2, k:0.3}, imgs, num=600)\n",
        "err[0]/math.pi*180, err[1]/math.pi*180"
      ],
      "execution_count": 0,
      "outputs": []
    },
    {
      "cell_type": "code",
      "metadata": {
        "id": "smhPmtgFoOGA",
        "colab_type": "code",
        "outputId": "abab8b0b-7911-48fe-a118-123d4861fcca",
        "colab": {
          "base_uri": "https://localhost:8080/",
          "height": 34
        }
      },
      "source": [
        "# Do nothing\n",
        "imgs = [cv2.imread('/content/drive/My Drive/Color Constancy/Resource/ColorChecker Dataset/Corrected/54.png')[:,:,::-1]]\n",
        "err = errorMeasure(doNothing, {}, imgs, num=50)\n",
        "err[0]/math.pi*180, err[1]/math.pi*180"
      ],
      "execution_count": 0,
      "outputs": [
        {
          "output_type": "execute_result",
          "data": {
            "text/plain": [
              "(4.53331325366111, 4.473571388340897)"
            ]
          },
          "metadata": {
            "tags": []
          },
          "execution_count": 7
        }
      ]
    },
    {
      "cell_type": "code",
      "metadata": {
        "id": "bYZdlNFwYjtW",
        "colab_type": "code",
        "colab": {}
      },
      "source": [
        ""
      ],
      "execution_count": 0,
      "outputs": []
    }
  ]
}